{
  "nbformat": 4,
  "nbformat_minor": 0,
  "metadata": {
    "colab": {
      "name": "HW_J078_080820.ipynb",
      "provenance": [],
      "collapsed_sections": [],
      "authorship_tag": "ABX9TyMFHCgJ2+625pVjiid0pZeQ",
      "include_colab_link": true
    },
    "kernelspec": {
      "name": "python3",
      "display_name": "Python 3"
    }
  },
  "cells": [
    {
      "cell_type": "markdown",
      "metadata": {
        "id": "view-in-github",
        "colab_type": "text"
      },
      "source": [
        "<a href=\"https://colab.research.google.com/github/UJWAL-SHAH/AI/blob/master/Home%20Work/HW_J078_080820.ipynb\" target=\"_parent\"><img src=\"https://colab.research.google.com/assets/colab-badge.svg\" alt=\"Open In Colab\"/></a>"
      ]
    },
    {
      "cell_type": "markdown",
      "metadata": {
        "id": "sONBNF9k9JnY",
        "colab_type": "text"
      },
      "source": [
        "#**Roll No:J078 (Submitted on :8th August 2020)**\n",
        "\n",
        "#**4th Assignment submission**"
      ]
    },
    {
      "cell_type": "markdown",
      "metadata": {
        "id": "wST_kYfbPjrG",
        "colab_type": "text"
      },
      "source": [
        "\n",
        "## **Knapsnack Problem using Dynamic Programming**"
      ]
    },
    {
      "cell_type": "code",
      "metadata": {
        "id": "PX_YvcOH8op8",
        "colab_type": "code",
        "colab": {}
      },
      "source": [
        "# A Dynamic Programming based Python  \n",
        "# Program for 0-1 Knapsack problem \n",
        "# Returns the maximum value that can be put in a knapsack of capacity W \n",
        "# Binary knapsack problems are NP-Complete. 0 and 1 represent whether or not the weight will be included in the knapsack or not. \n",
        "\n",
        "def knapSack_DP(values, weights, capacity):\n",
        "  # basic checks\n",
        "  n = len(values)\n",
        "  if capacity <= 0 or n == 0 or len(weights) != n:\n",
        "    return 0\n",
        "\n",
        "  dp = [[0 for x in range(capacity+1)] for y in range(n)]\n",
        "\n",
        "  # populate the capacity = 0 columns, with '0' capacity we have '0' value\n",
        "  for i in range(0, n):\n",
        "    dp[i][0] = 0\n",
        "\n",
        "  # if we have only one weight, we will take it if it is not more than the capacity\n",
        "  for c in range(0, capacity+1):\n",
        "    if weights[0] <= c:\n",
        "      dp[0][c] = values[0]\n",
        "\n",
        "  # process all sub-arrays for all the capacities\n",
        "  for i in range(1, n):\n",
        "    for c in range(1, capacity+1):\n",
        "      value1, value2 = 0, 0\n",
        "      # include the item, if it is not more than the capacity\n",
        "      if weights[i] <= c:\n",
        "        value1 = values[i] + dp[i - 1][c - weights[i]]\n",
        "      # exclude the item\n",
        "      value2 = dp[i - 1][c]\n",
        "      # take maximum\n",
        "      dp[i][c] = max(value1, value2)\n",
        "\n",
        "  # maximum value will be at the bottom-right corner.\n",
        "  return dp[n - 1][capacity]"
      ],
      "execution_count": 12,
      "outputs": []
    },
    {
      "cell_type": "code",
      "metadata": {
        "id": "N5KFdi9q8svF",
        "colab_type": "code",
        "colab": {
          "base_uri": "https://localhost:8080/",
          "height": 34
        },
        "outputId": "bb7139d9-f9fa-4862-be64-0752130fe478"
      },
      "source": [
        "# Driver program to test above function \n",
        "val = [60, 100, 120]                         # Values of the above given weights\n",
        "wt = [10, 20, 30]                            # Weights in the problem statement\n",
        "capacity = 50                                       # Maximum Weight Supported /Allowed \n",
        "print(knapSack_DP(val, wt, capacity))               # Prints the optimal result which maximizes the objectives of the problem"
      ],
      "execution_count": 16,
      "outputs": [
        {
          "output_type": "stream",
          "text": [
            "220\n"
          ],
          "name": "stdout"
        }
      ]
    },
    {
      "cell_type": "markdown",
      "metadata": {
        "id": "OrBGyEVk99g1",
        "colab_type": "text"
      },
      "source": [
        "\n",
        "##**Knapsnack Problem using Recursion**\n"
      ]
    },
    {
      "cell_type": "code",
      "metadata": {
        "id": "ivLFgjy1QOlG",
        "colab_type": "code",
        "colab": {}
      },
      "source": [
        "#Using Recursion\n",
        "# of 0-1 Knapsack Problem \n",
        "# Binary knapsack problems are NP-Complete. 0 and 1 represent whether or not the weight will be included in the knapsack or not. \n",
        "  \n",
        "# Returns the maximum value that can be put in a knapsack of capacity W \n",
        "def knapSack_R(W, wt, val, n): \n",
        "  \n",
        "    # Base Case \n",
        "    if n == 0 or W == 0 :                  # If no value of weights then return the result =0\n",
        "        return 0\n",
        "  \n",
        "    # If weight of the nth item is  \n",
        "    # more than Knapsack of capacity W,  \n",
        "    # then this item cannot be included  \n",
        "    # in the optimal solution \n",
        "    if (wt[n-1] > W): \n",
        "        return knapSack(W, wt, val, n-1) \n",
        "  \n",
        "    # return the maximum of two cases: \n",
        "    # (1) nth item included \n",
        "    # (2) not included \n",
        "    else: \n",
        "        return max( \n",
        "            val[n-1] + knapSack( \n",
        "                W-wt[n-1], wt, val, n-1),  \n",
        "                knapSack(W, wt, val, n-1)) \n",
        "  \n",
        "# end of function knapSack "
      ],
      "execution_count": 17,
      "outputs": []
    },
    {
      "cell_type": "code",
      "metadata": {
        "id": "tKnv3nmb-Mtl",
        "colab_type": "code",
        "colab": {
          "base_uri": "https://localhost:8080/",
          "height": 34
        },
        "outputId": "5f3480be-cbd7-4fcb-e08c-33dbabb7245b"
      },
      "source": [
        "# To test above function \n",
        "wt = [10, 20, 30]                           # Weights in the problem statement\n",
        "val = [60, 100, 120]                        # Values of the above given weights\n",
        "W = 50                                      # Maximum Weight Supported /Allowed \n",
        "n = len(val)                                # Total no.of weights in the problem \n",
        "print(knapSack_R(W, wt, val, n) )             # Prints the optimal result which maximizes the objectives of the problem"
      ],
      "execution_count": 21,
      "outputs": [
        {
          "output_type": "stream",
          "text": [
            "220\n"
          ],
          "name": "stdout"
        }
      ]
    }
  ]
}