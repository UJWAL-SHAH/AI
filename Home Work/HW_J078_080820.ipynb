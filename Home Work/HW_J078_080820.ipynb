{
  "nbformat": 4,
  "nbformat_minor": 0,
  "metadata": {
    "colab": {
      "name": "HW_J078_080820.ipynb",
      "provenance": [],
      "collapsed_sections": [],
      "authorship_tag": "ABX9TyOFgUDrKfKqMbZSaDSskgO2",
      "include_colab_link": true
    },
    "kernelspec": {
      "name": "python3",
      "display_name": "Python 3"
    }
  },
  "cells": [
    {
      "cell_type": "markdown",
      "metadata": {
        "id": "view-in-github",
        "colab_type": "text"
      },
      "source": [
        "<a href=\"https://colab.research.google.com/github/UJWAL-SHAH/AI/blob/master/Home%20Work/HW_J078_080820.ipynb\" target=\"_parent\"><img src=\"https://colab.research.google.com/assets/colab-badge.svg\" alt=\"Open In Colab\"/></a>"
      ]
    },
    {
      "cell_type": "markdown",
      "metadata": {
        "id": "sONBNF9k9JnY",
        "colab_type": "text"
      },
      "source": [
        "#**Roll No:J078**\n",
        "\n",
        "#**4th Assignment submission**"
      ]
    },
    {
      "cell_type": "markdown",
      "metadata": {
        "id": "z8aTSztbLeYG",
        "colab_type": "text"
      },
      "source": [
        "#**QUESTION**\n",
        "\n",
        "Peter has a tree that consists of  nodes. The nodes are numbered from  through . Each node  has an item associated with it. The item associated with node  is specified by a size  and a value .\n",
        "\n",
        "Peter has a knapsack of size . He wants to choose a subset of nodes (probably none or all); all nodes in the subset are connected. In other words, if nodes  and  are in the subset, then all nodes lying on the simple path between  and  should also be presented in the subset. After that, Peter will take the items associated with all nodes in that subset into his knapsack. Of course, the total size of those items must be less than or equal to the size of the knapsack ().\n",
        "\n",
        "He wonders what the largest total value of items he can put into his knapsack is. Your task is calculating this number."
      ]
    },
    {
      "cell_type": "markdown",
      "metadata": {
        "id": "zq9eG8gnLqIu",
        "colab_type": "text"
      },
      "source": [
        "###**Input Format**\n",
        "The first line contains a single integer, , denoting the number of test cases. Then  cases follow.\n",
        "Each case consists of several lines.\n",
        "The first line contains two integers,  and .\n",
        "The second line contains  integers , where  denotes the size of the item associated with node .\n",
        "The third line contains  integers , where  denotes the value of the item associated with node .\n",
        "Then the next  lines each contain a pair of integers  and  () denoting that there is an edge between  and . It is guaranteed that these edges form a tree.\n",
        "\n",
        "###**Output Format**\n",
        "For each test case, print the largest total value of the items in a single line."
      ]
    },
    {
      "cell_type": "markdown",
      "metadata": {
        "id": "wST_kYfbPjrG",
        "colab_type": "text"
      },
      "source": [
        "\n",
        "## **Knapsnack Problem Code:**"
      ]
    },
    {
      "cell_type": "code",
      "metadata": {
        "id": "nmsN10TlIPIc",
        "colab_type": "code",
        "colab": {}
      },
      "source": [
        "#Import libraries\n",
        "import sys\n",
        "import heapq\n",
        "\n",
        "#Initialsing the Function \n",
        "def find_soln(N, M, S, V, E) :\n",
        "    # Storing the no. of nodes passed to variable N in tuple T\n",
        "    T = tuple(set() for _ in range(N))\n",
        "    # Adding the connected nodes present in variable E to tuple T\n",
        "    for u, v in E :\n",
        "        T[u].add(v)\n",
        "        T[v].add(u)\n",
        "    # Store sum of values in the connected notes in the variable Totals   \n",
        "    Totals = sum(V)\n",
        "    # Store the sorted array in variable 'sequence'\n",
        "    sequence = sorted(range(nodes), reverse=True, key=(lambda i : V[i]/S[i]))\n",
        "    # Initialise maximum value as 0\n",
        "    valMax = 0\n",
        "    \n",
        "    # Define recursive function 'obtMaxVal'to get maximum value of cost of connected node values    \n",
        "    def obtMaxVal(doneVis, joined, rejected, size, value, valRej, valMax) :\n",
        "        \n",
        "        # If value passed is greater than initialised value of 'valMax' variable then update value of 'valMax'\n",
        "        if value > valMax :\n",
        "            valMax = value\n",
        "        \n",
        "        # If the passed nodes are not joined/connected return same value of 'obtMaxval'  without updation    \n",
        "        if not joined :\n",
        "            return valMax\n",
        "         #Check all possible sum through various routes to get the maximum\n",
        "        i = obtBestVal(joined)\n",
        "        if size + S[i] <= M :\n",
        "            valMax = obtMaxVal(doneVis|{i}, (joined-{i}) | (T[i]-rejected-doneVis), rejected, size+S[i], value+V[i], valRej, valMax)\n",
        "            \n",
        "        if Totals - (valRej + V[i]) > valMax :\n",
        "            valMax = obtMaxVal(doneVis|{i}, joined-{i}, rejected | {i}, size, value, valRej + V[i], valMax)\n",
        "            \n",
        "        return valMax\n",
        "    #to get best joined/connected nodes\n",
        "    def obtBestVal(joined) :\n",
        "        for i in sequence :\n",
        "            if i in joined :\n",
        "                return i\n",
        "            \n",
        "    for k in sequence :\n",
        "        valMax = obtMaxVal(set(),{k},set(),0,0,0,valMax)\n",
        "\n",
        "    return valMax"
      ],
      "execution_count": 15,
      "outputs": []
    },
    {
      "cell_type": "code",
      "metadata": {
        "id": "aXzkWTgwITYB",
        "colab_type": "code",
        "colab": {
          "base_uri": "https://localhost:8080/",
          "height": 544
        },
        "outputId": "734f93e2-988a-46c1-fcb5-546ffa68a6b7"
      },
      "source": [
        "# User Input the No of Test Cases\n",
        "print('User Input no. of Test cases:')\n",
        "T = int(input())\n",
        "# For each Test case take new input using for loop\n",
        "for _ in range(T) :\n",
        "\n",
        "    print('Enter the values of nodes(n), max modes(m), input size(s), value of node(v) and connections/joints(temp) respectively: ')\n",
        "    # Take input for number of nodes (n) and number of maximum nodes in knapsack (m)\n",
        "    nodes, knapsack = (int(_) for _ in input().split())\n",
        "    \n",
        "    # Take input of sizes of each node (s1,s2,s3..sn)\n",
        "    sizes = tuple(int(_) for _ in input().split())\n",
        "    \n",
        "    # Take input of values associated with each node (v1,v2,v3..vn)\n",
        "    values = tuple(int(_) for _ in input().split())\n",
        "    \n",
        "    #Take the input of the two nodes that are connected  to from  tree\n",
        "    temp = tuple((int(_)-1 for _ in input().split()) for _ in range(nodes-1))\n",
        "\n",
        "    #Final Answer\n",
        "    print('Maximum Value of Nodes That can be in the Knapsack: ', find_soln(nodes, knapsack, sizes, values, temp), end='\\n')"
      ],
      "execution_count": 17,
      "outputs": [
        {
          "output_type": "stream",
          "text": [
            "User Input no. of Test cases:\n",
            "3\n",
            "Enter the values of nodes(n), max modes(m), input size(s), value of node(v) and connections/joints(temp) respectively: \n",
            "3 1\n",
            "1 1 1\n",
            "1 2 3\n",
            "1 2\n",
            "1 3\n",
            "Maximum Value of Nodes That can be in the Knapsack:  3\n",
            "Enter the values of nodes(n), max modes(m), input size(s), value of node(v) and connections/joints(temp) respectively: \n",
            "5 3\n",
            "1 1 1 1 1\n",
            "3 5 2 2 3\n",
            "1 2\n",
            "1 3\n",
            "2 4\n",
            "2 5\n",
            "Maximum Value of Nodes That can be in the Knapsack:  11\n",
            "Enter the values of nodes(n), max modes(m), input size(s), value of node(v) and connections/joints(temp) respectively: \n",
            "9 7\n",
            "1 1 3 2 1 1 1 5 5\n",
            "1 0 8 5 1 2 0 9 14\n",
            "1 2\n",
            "2 3\n",
            "2 4\n",
            "3 5\n",
            "3 6\n",
            "4 7\n",
            "4 8\n",
            "7 9\n",
            "Maximum Value of Nodes That can be in the Knapsack:  15\n"
          ],
          "name": "stdout"
        }
      ]
    },
    {
      "cell_type": "markdown",
      "metadata": {
        "id": "Da67Q7qeZ5Vh",
        "colab_type": "text"
      },
      "source": [
        "###**Explanation to Code:**\n",
        "\n",
        "Assuming for N=1 ,hence similarly it will apply for different cases also.\n",
        "\n",
        "No. of Test Case=1, so the loop will run 1 time,\n",
        "\n",
        "The next line contains:\n",
        "\n",
        "**3** : Denotes no of Nodes.\n",
        "\n",
        "**1** : Denotes the size of knapsack, so at 1.So at the most there can only be one item.\n",
        "\n",
        "**1,1,1**:Denotes the size of the item asscociated at node i.\n",
        "\n",
        "**1,2,3** :Denotes the value of each of the following items.\n",
        "\n",
        "We can now seperate these numbers so that they form a tree or so we know there is a difference between them(edge) so we input 1,2 and 1,3 so 1 is getting connected to 2 and also to 3\n",
        "\n",
        "Since the knapsack size is 1, the output should be 3,as 3 is the highest value \n",
        "\n",
        "###def solve(N,M,S,V,E) : takes the values of n,m,s,v,e as defined above\n",
        "**N** = 3\n",
        "\n",
        "**M** = 1\n",
        "\n",
        "**S** = (1,1,1)\n",
        "\n",
        "**V** = (1,2,3)\n",
        "\n",
        "**E** = ((1,2),(1,3))\n",
        "\n",
        "T = tuple(set() for _ in range(N))  so in range 1 to 3\n",
        "\n",
        "    for u,v in E :\n",
        "      T[u].add(v)\n",
        "      T[v].add(u)\n",
        "\n",
        "**T = ({1, 2}, {0}, {0})**\n",
        "\n",
        "Totals = sum(V)\n",
        "\n",
        "sequence = sorted(range(nodes), reverse=True, key=(lambda i : V[i]/S[i]))\n",
        "\n",
        "valMax = 0\n",
        "\n",
        "Total is sum of all values in V i.e. 1+2+3 = **6**\n",
        "\n",
        "**'Sequence' is the sorted range of value of an object / size of that object= [2, 1, 0]**\n",
        "\n",
        "lets set the valMax at 0, so **valMax = 0**\n",
        "\n",
        "    for k in sequence : \n",
        "       valMax = obtMaxVal(set(),{k},set(),0,0,0,valMax)\n",
        "       retrun valMax\n",
        "\n",
        "###Now obtMax Function\n",
        "\n",
        "###obtMaxVal(doneVis, joined, rejected, size, value, valRej, valMax) :\n",
        "\n",
        "**donevis**= empty set\n",
        "\n",
        "**joined** = {s}, s = 2,1,0 from the order \n",
        "\n",
        "**rejected** = empty set\n",
        "\n",
        "**size** = 0\n",
        "\n",
        "**value** = 0\n",
        "\n",
        "**valRej** = 0\n",
        "\n",
        "**valMax** = 0 \n",
        "\n",
        "    if value > maxValue :\n",
        "        maxValue = value\n",
        "\n",
        "    if not connected :\n",
        "        return maxValue\n",
        "\n",
        "    i = getBest(connected)\n",
        "    # i = 2\n",
        "\n",
        "    if size + S[i] <= M : # 0 + 2 > M doesnt run further\n",
        "        maxValue = getMax(visited|{i}, (connected-{i}) | (T[i]-rejected-visited), rejected, size+S[i], value+V[i], rejectedValue, maxValue)\n",
        "\n",
        "    if Total - (rejectedValue + V[i]) > maxValue : # 6 - (0+3) = 3 is > 0\n",
        "        maxValue = getMax(visited|{i}, connected-{i}, rejected | {i}, size, value, rejectedValue + V[i], maxValue)\n",
        "\n",
        "###Now\n",
        "**doneVis** = empty set or 2\n",
        "\n",
        "**joined** = 1 \n",
        "\n",
        "**rejected** = empty set or 2\n",
        "\n",
        "**size** = 0\n",
        "\n",
        "**value** = 0\n",
        "\n",
        "**valRej** = 3\n",
        "\n",
        "**valMax** = 0\n",
        "\n",
        "    def obtBestVal(joined) :\n",
        "        for i in sequence :\n",
        "            if i in joined :\n",
        "                return i\n",
        "\n",
        "###**The last loop runs and returns us 3 .So the Maximum Value of Nodes in Knapsnack = 3**\n",
        "\n",
        "**The Same can be repeated for different groups**\n"
      ]
    },
    {
      "cell_type": "markdown",
      "metadata": {
        "id": "v76LGAXXL-EO",
        "colab_type": "text"
      },
      "source": [
        "\n",
        "\n",
        "---\n",
        "\n"
      ]
    }
  ]
}