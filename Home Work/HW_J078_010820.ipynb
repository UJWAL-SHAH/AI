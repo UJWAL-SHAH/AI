{
  "nbformat": 4,
  "nbformat_minor": 0,
  "metadata": {
    "colab": {
      "name": "HW_J078_010820.ipynb",
      "provenance": [],
      "authorship_tag": "ABX9TyNlXPwKozSmV2CxEpnJecRH",
      "include_colab_link": true
    },
    "kernelspec": {
      "name": "python3",
      "display_name": "Python 3"
    }
  },
  "cells": [
    {
      "cell_type": "markdown",
      "metadata": {
        "id": "view-in-github",
        "colab_type": "text"
      },
      "source": [
        "<a href=\"https://colab.research.google.com/github/UJWAL-SHAH/AI/blob/master/Home%20Work/HW_J078_010820.ipynb\" target=\"_parent\"><img src=\"https://colab.research.google.com/assets/colab-badge.svg\" alt=\"Open In Colab\"/></a>"
      ]
    },
    {
      "cell_type": "markdown",
      "metadata": {
        "id": "XDQ_MJbHYFGT",
        "colab_type": "text"
      },
      "source": [
        "#**Roll No:J078 (Submitted on : 1st August 2020)**\n",
        "\n",
        "#**3rd Assignment submission**"
      ]
    },
    {
      "cell_type": "markdown",
      "metadata": {
        "id": "88R8YVH46Acl",
        "colab_type": "text"
      },
      "source": [
        "# **Q1) Validating Postal Codes**"
      ]
    },
    {
      "cell_type": "code",
      "metadata": {
        "id": "2viMpGrLuxJc",
        "colab_type": "code",
        "colab": {
          "base_uri": "https://localhost:8080/",
          "height": 51
        },
        "outputId": "352e08b7-f1cb-4b8c-b31e-4d08eb29effd"
      },
      "source": [
        "\n",
        "regex_integer_in_range = r\"[1-9][0-9][0-9][0-9][0-9][0-9]$\"\t\n",
        "#here the first digit has to 1-9 & the remaining 5 digits can be from 0-9 \n",
        "\n",
        "regex_alternating_repetitive_digit_pair = r\"(\\d)(?=\\d\\1)\"\t\n",
        "#(\\d)means any digit\n",
        "#((?=\\d\\1)) means alterate digit\n",
        "#Findall Checks if both Digits are same or not\n",
        "#This keep count of reptition as 1 & if repetition is found then increases it to 2 & if = 2 then false output will be generated\n",
        "P = input()\n",
        "\n",
        "#TRUE Example\n",
        "print (bool(re.match(regex_integer_in_range, P)) and len(re.findall(regex_alternating_repetitive_digit_pair, P)) < 2)"
      ],
      "execution_count": 22,
      "outputs": [
        {
          "output_type": "stream",
          "text": [
            "103456\n",
            "True\n"
          ],
          "name": "stdout"
        }
      ]
    },
    {
      "cell_type": "code",
      "metadata": {
        "id": "ofsfUwrdLllh",
        "colab_type": "code",
        "colab": {
          "base_uri": "https://localhost:8080/",
          "height": 51
        },
        "outputId": "bc61e224-37ac-4994-8b83-47f548ab0a66"
      },
      "source": [
        "#FALSE Example\n",
        "\n",
        "regex_integer_in_range = r\"[1-9][0-9][0-9][0-9][0-9][0-9]$\"\t\n",
        "regex_alternating_repetitive_digit_pair = r\"(\\d)(?=\\d\\1)\"\t\n",
        "\n",
        "P = input()\n",
        "print (bool(re.match(regex_integer_in_range, P)) and len(re.findall(regex_alternating_repetitive_digit_pair, P)) < 2)"
      ],
      "execution_count": 29,
      "outputs": [
        {
          "output_type": "stream",
          "text": [
            "101010\n",
            "False\n"
          ],
          "name": "stdout"
        }
      ]
    },
    {
      "cell_type": "markdown",
      "metadata": {
        "id": "9dMnPhrD-QzB",
        "colab_type": "text"
      },
      "source": [
        "# **Q2) The Coin Change Problem**\n",
        "\n"
      ]
    },
    {
      "cell_type": "code",
      "metadata": {
        "id": "IDJve5wK9KR2",
        "colab_type": "code",
        "colab": {
          "base_uri": "https://localhost:8080/",
          "height": 68
        },
        "outputId": "a944afcf-f993-495e-da85-17556f08529d"
      },
      "source": [
        "import math\n",
        "import os\n",
        "import random\n",
        "import re\n",
        "import sys\n",
        "\n",
        "def getWays(n, c):\n",
        "    m = len(c)                                  # Initialsing variable m to length of c\n",
        "    table = [0 for k in range(n+1)]             # Making the variable table till the range of  (Amount + 1) \n",
        "    table[0] = 1                                # Initalising Index 0 of table = 1        \n",
        "    for i in range(0,m):                        # Running the nested for loops 1st one till 'm' \n",
        "        for j in range(c[i],n+1):               # Running the second from c[i] to the (Amount+1)\n",
        "            table[j]=table[j]+table[j-c[i]] \n",
        "  \n",
        "    return table[n]                             # Returning the total number of combinations by printing the nth index of table\n",
        "                                                # As nth index has total number of combination\n",
        "#Assigning the inputs correctly\n",
        "first_multiple_input = input().rstrip().split() # Using list to assign inputs\n",
        "n = int(first_multiple_input[0])                # Assigning n: The Amount to make change for\n",
        "m = int(first_multiple_input[1])                # Assigning m :The No. of coin types\n",
        "c = list(map(int, input().rstrip().split()))    # Assigning c: Array of integers representing available denominations\n",
        "\n",
        "ways = getWays(n, c)                            # Print the number of ways of making change for 'n' units using coins having the values given by 'c'\n",
        "print(ways)\n"
      ],
      "execution_count": 31,
      "outputs": [
        {
          "output_type": "stream",
          "text": [
            "4 3\n",
            "1 2 3\n",
            "4\n"
          ],
          "name": "stdout"
        }
      ]
    },
    {
      "cell_type": "markdown",
      "metadata": {
        "id": "793xxiWCDOmw",
        "colab_type": "text"
      },
      "source": [
        "# **Q3) Sherlock and Cost**"
      ]
    },
    {
      "cell_type": "code",
      "metadata": {
        "id": "Q6UTUWZLDQgl",
        "colab_type": "code",
        "colab": {
          "base_uri": "https://localhost:8080/",
          "height": 136
        },
        "outputId": "f1894936-9dc1-44e4-b826-f38767e943d6"
      },
      "source": [
        "import math\n",
        "import os\n",
        "import random\n",
        "import re\n",
        "import sys\n",
        "\n",
        "def cost(B):\n",
        "    n= len(B)\n",
        "    Last,First=0,0  #Initialising First & Last\n",
        "    for i in range(1,n):   #Note we have skip Index Zero\n",
        "      LTF,FTL,LTL = abs(B[i-1] - 1),abs(B[i] - 1),abs(B[i] - B[i-1])   #Initialising LTF(Last_to_First), FTL(First_to_Last), LTL(Last_to_Last)\n",
        "      NF = max(First, Last+LTF)       #NF (New_First) will help to find maximum between First & (Last+LTF)\n",
        "      NL = max(Last+LTL, First+FTL)   #NL(New_Last) will help to find maximum between (Last+LTL) & (First+FTL)\n",
        "      First = NF   #Updating First with NF\n",
        "      Last = NL    #Updating Last with NL\n",
        "    return max (Last,First)  #After all iteration it will return  maximun of First & Last and that will be the MAXIMUM COST\n",
        "\n",
        "t = int(input(\"Enter no of test cases: \"))\n",
        "for x in range(t):\n",
        "  n = int(input(\"Enter the length of Test Case:\"))\n",
        "  A = list(map(int, input(\"Enter the Integers of the Test Case:\").rstrip().split()))\n",
        "  maxcost = cost(A)\n",
        "  print(\"Maximum Cost of\",x+1,\"Test Case =\",maxcost)      "
      ],
      "execution_count": 48,
      "outputs": [
        {
          "output_type": "stream",
          "text": [
            "Enter no of test cases: 2\n",
            "Enter the length of Test Case:5\n",
            "Enter the Integers of the Test Case:1 10 1 10 1\n",
            "Maximum Cost of 1 Test Case = 36\n",
            "Enter the length of Test Case:3\n",
            "Enter the Integers of the Test Case:1 2 3\n",
            "Maximum Cost of 2 Test Case = 2\n"
          ],
          "name": "stdout"
        }
      ]
    }
  ]
}