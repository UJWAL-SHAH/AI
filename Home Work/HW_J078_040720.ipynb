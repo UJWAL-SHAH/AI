{
  "nbformat": 4,
  "nbformat_minor": 0,
  "metadata": {
    "colab": {
      "name": "HW_J078_040720",
      "provenance": [],
      "authorship_tag": "ABX9TyMjBeEdMijxBTmwbaao3A9q",
      "include_colab_link": true
    },
    "kernelspec": {
      "name": "python3",
      "display_name": "Python 3"
    }
  },
  "cells": [
    {
      "cell_type": "markdown",
      "metadata": {
        "id": "view-in-github",
        "colab_type": "text"
      },
      "source": [
        "<a href=\"https://colab.research.google.com/github/UJWAL-SHAH/AI/blob/master/Home%20Work/HW_J078_040720.ipynb\" target=\"_parent\"><img src=\"https://colab.research.google.com/assets/colab-badge.svg\" alt=\"Open In Colab\"/></a>"
      ]
    },
    {
      "cell_type": "code",
      "metadata": {
        "id": "71wOxhS6YEeH",
        "colab_type": "code",
        "colab": {}
      },
      "source": [
        "#Roll No:J078 (Submitted on :4th July 2020)\n",
        "# 7 Assignment submission"
      ],
      "execution_count": null,
      "outputs": []
    },
    {
      "cell_type": "code",
      "metadata": {
        "id": "C5TvNudLYKCp",
        "colab_type": "code",
        "colab": {}
      },
      "source": [
        "#Q1: If-Else\n",
        "n=int(input())\n",
        "if (n%2==0):\n",
        "    if (n>=2 and n<=5 ):\n",
        "        print(\"Not Weird\")\n",
        "    elif (n>=6 and n<=20 ):\n",
        "        print(\"Weird\")\n",
        "    else:\n",
        "        print(\"Not Weird\")\n",
        "else:\n",
        "    print(\"Weird\")"
      ],
      "execution_count": null,
      "outputs": []
    },
    {
      "cell_type": "code",
      "metadata": {
        "id": "47AK3xUSixiC",
        "colab_type": "code",
        "colab": {}
      },
      "source": [
        "#Q2: Arithematic Operations\n",
        "a=int(input())\n",
        "b=int(input())\n",
        "print(a+b)\n",
        "print(a-b)\n",
        "print(a*b)"
      ],
      "execution_count": null,
      "outputs": []
    },
    {
      "cell_type": "code",
      "metadata": {
        "id": "SkcJf9gVixe5",
        "colab_type": "code",
        "colab": {}
      },
      "source": [
        "#Q3: Python:Division\n",
        "a=int(input())\n",
        "b=int(input())\n",
        "print(int(a/b))\n",
        "print(a/b)"
      ],
      "execution_count": null,
      "outputs": []
    },
    {
      "cell_type": "code",
      "metadata": {
        "id": "GP2cD7BwixYN",
        "colab_type": "code",
        "colab": {}
      },
      "source": [
        "#Q4: Loops\n",
        "n=int(input())\n",
        "n=abs(n)\n",
        "i=0\n",
        "while(i<n):\n",
        "    print(i*i)\n",
        "    i=i+1"
      ],
      "execution_count": null,
      "outputs": []
    },
    {
      "cell_type": "code",
      "metadata": {
        "id": "pTcOach5ixIO",
        "colab_type": "code",
        "colab": {}
      },
      "source": [
        "#Q5:Print Function\n",
        "n=int(input())\n",
        "i=1\n",
        "while(i<=n):\n",
        "    print(i,end=\"\")\n",
        "    i=i+1"
      ],
      "execution_count": null,
      "outputs": []
    },
    {
      "cell_type": "code",
      "metadata": {
        "id": "4PeOHUXHjXna",
        "colab_type": "code",
        "colab": {}
      },
      "source": [
        "#Q6: List comprehension\n",
        "i=int(input())\n",
        "j=int(input())\n",
        "k=int(input())\n",
        "n=int(input())\n",
        "t=[]\n",
        "p=[]\n",
        "for x in range(i+1):\n",
        "    for y in range(j+1):\n",
        "        for z in range(k+1):\n",
        "            if ((x+y+z)!=n):\n",
        "                p=[x,y,z]\n",
        "                t.append(p)\n",
        "            else:\n",
        "                continue\n",
        "print(t)"
      ],
      "execution_count": null,
      "outputs": []
    },
    {
      "cell_type": "code",
      "metadata": {
        "id": "vlU9SjasZDwG",
        "colab_type": "code",
        "colab": {}
      },
      "source": [
        "#Q7: Hello World\n",
        "Greeting=\"Hello, World!\"\n",
        "print(Greeting)"
      ],
      "execution_count": null,
      "outputs": []
    }
  ]
}