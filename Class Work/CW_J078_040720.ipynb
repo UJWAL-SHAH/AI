{
  "nbformat": 4,
  "nbformat_minor": 0,
  "metadata": {
    "colab": {
      "name": "CW_J078_040720.ipynb",
      "provenance": [],
      "authorship_tag": "ABX9TyNt5OyonsiQgFZ2jXcH0/tI",
      "include_colab_link": true
    },
    "kernelspec": {
      "name": "python3",
      "display_name": "Python 3"
    }
  },
  "cells": [
    {
      "cell_type": "markdown",
      "metadata": {
        "id": "view-in-github",
        "colab_type": "text"
      },
      "source": [
        "<a href=\"https://colab.research.google.com/github/UJWAL-SHAH/AI/blob/master/Class%20Work/CW_J078_040720.ipynb\" target=\"_parent\"><img src=\"https://colab.research.google.com/assets/colab-badge.svg\" alt=\"Open In Colab\"/></a>"
      ]
    },
    {
      "cell_type": "code",
      "metadata": {
        "id": "Bb9C7C8YGRik",
        "colab_type": "code",
        "colab": {}
      },
      "source": [
        "#Lecture:1 :Intro to AI & Python"
      ],
      "execution_count": null,
      "outputs": []
    },
    {
      "cell_type": "code",
      "metadata": {
        "id": "lO8pXWME2nda",
        "colab_type": "code",
        "colab": {
          "base_uri": "https://localhost:8080/",
          "height": 70
        },
        "outputId": "1e409fac-f26f-495b-9adc-a91cf9f3e9f7"
      },
      "source": [
        "#list\n",
        "a=[1,2,3,4,5]\n",
        "print(a)\n",
        "type(a)\n",
        "\n"
      ],
      "execution_count": null,
      "outputs": [
        {
          "output_type": "stream",
          "text": [
            "[1, 2, 3, 4, 5]\n",
            "(1, 2, 3, 4, 5)\n"
          ],
          "name": "stdout"
        },
        {
          "output_type": "execute_result",
          "data": {
            "text/plain": [
              "tuple"
            ]
          },
          "metadata": {
            "tags": []
          },
          "execution_count": 4
        }
      ]
    },
    {
      "cell_type": "code",
      "metadata": {
        "id": "aVK_12aaGTaI",
        "colab_type": "code",
        "colab": {}
      },
      "source": [
        "#tuple\n",
        "b=(1,2,3,4,5)\n",
        "print(b)\n",
        "type(b)"
      ],
      "execution_count": null,
      "outputs": []
    },
    {
      "cell_type": "code",
      "metadata": {
        "id": "l8JLvsrbGfCy",
        "colab_type": "code",
        "colab": {
          "base_uri": "https://localhost:8080/",
          "height": 52
        },
        "outputId": "7c833e24-94a0-402c-bc77-c629430b20d6"
      },
      "source": [
        "#set\n",
        "c={1,2,3,\"human\"}\n",
        "print(c)\n",
        "type(c)"
      ],
      "execution_count": null,
      "outputs": [
        {
          "output_type": "stream",
          "text": [
            "{1, 2, 3, 'human'}\n"
          ],
          "name": "stdout"
        },
        {
          "output_type": "execute_result",
          "data": {
            "text/plain": [
              "set"
            ]
          },
          "metadata": {
            "tags": []
          },
          "execution_count": 6
        }
      ]
    },
    {
      "cell_type": "code",
      "metadata": {
        "id": "QY8Lq8NSGUKF",
        "colab_type": "code",
        "colab": {
          "base_uri": "https://localhost:8080/",
          "height": 52
        },
        "outputId": "7206c302-a51f-4889-90a9-b211fd5553dd"
      },
      "source": [
        "#dictionaries\n",
        "d={\"list\":[1,2,3,\"Value_1\"],\"tuple\":(\"Value_2\"),\"Set\":{\"Value_3\"}}\n",
        "print(d)\n",
        "type(d)"
      ],
      "execution_count": null,
      "outputs": [
        {
          "output_type": "stream",
          "text": [
            "{'list': [1, 2, 3, 'Value_1'], 'tuple': 'Value_2', 'Set': {'Value_3'}}\n"
          ],
          "name": "stdout"
        },
        {
          "output_type": "execute_result",
          "data": {
            "text/plain": [
              "dict"
            ]
          },
          "metadata": {
            "tags": []
          },
          "execution_count": 9
        }
      ]
    },
    {
      "cell_type": "code",
      "metadata": {
        "id": "zwbOk1pFJXEd",
        "colab_type": "code",
        "colab": {
          "base_uri": "https://localhost:8080/",
          "height": 34
        },
        "outputId": "cae54c08-f475-4f3a-920e-cf100668f1c2"
      },
      "source": [
        "#list on list\n",
        "d=[[1,2],[3,4]]\n",
        "d"
      ],
      "execution_count": null,
      "outputs": [
        {
          "output_type": "execute_result",
          "data": {
            "text/plain": [
              "[[1, 2], [3, 4]]"
            ]
          },
          "metadata": {
            "tags": []
          },
          "execution_count": 11
        }
      ]
    },
    {
      "cell_type": "code",
      "metadata": {
        "id": "IXmfmJ86J-A7",
        "colab_type": "code",
        "colab": {
          "base_uri": "https://localhost:8080/",
          "height": 34
        },
        "outputId": "6f93a7aa-8cd3-42fb-9a6f-b0a8a69d72d2"
      },
      "source": [
        "#Validation of Set Data Structure\n",
        "\n",
        "#Not Allowed\n",
        "#e={[1,2]}#list inside sets\n",
        "#e={{1,2},[3,4]}#list & sets both inside sets\n",
        "#e={{\"Name\":\"Ujwal\"},{\"Roll no\":'J078'}}#Dictionary in Sets\n",
        "#e={{2,3,{5}} #Set inside set \n",
        "#e={(1,2),[3,4]}#Tupe & sets both inside sets\n",
        "#e={[1,2],(3,4)}#List & Tuple inside sets\n",
        "#e[1] Indexng not allowed\n",
        "\n",
        "\n",
        "#Allowed \n",
        "#e={(1,2,3)} #tuple inside set is allowed \n",
        "#e={1,2,3,2} #Set only gives distinct values\n",
        "#e.pop() #to remove arbitary elements\n"
      ],
      "execution_count": null,
      "outputs": [
        {
          "output_type": "execute_result",
          "data": {
            "text/plain": [
              "4"
            ]
          },
          "metadata": {
            "tags": []
          },
          "execution_count": 33
        }
      ]
    },
    {
      "cell_type": "code",
      "metadata": {
        "id": "Ru6yiZ3VNHxn",
        "colab_type": "code",
        "colab": {}
      },
      "source": [
        ""
      ],
      "execution_count": null,
      "outputs": []
    }
  ]
}