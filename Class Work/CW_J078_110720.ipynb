{
  "nbformat": 4,
  "nbformat_minor": 0,
  "metadata": {
    "colab": {
      "name": "CW_J078_110720.ipynb",
      "provenance": [],
      "authorship_tag": "ABX9TyM3z02f6lfvwgLd2QdMKRZT",
      "include_colab_link": true
    },
    "kernelspec": {
      "name": "python3",
      "display_name": "Python 3"
    }
  },
  "cells": [
    {
      "cell_type": "markdown",
      "metadata": {
        "id": "view-in-github",
        "colab_type": "text"
      },
      "source": [
        "<a href=\"https://colab.research.google.com/github/UJWAL-SHAH/AI/blob/master/Class%20Work/CW_J078_110720.ipynb\" target=\"_parent\"><img src=\"https://colab.research.google.com/assets/colab-badge.svg\" alt=\"Open In Colab\"/></a>"
      ]
    },
    {
      "cell_type": "code",
      "metadata": {
        "id": "dHywxDgXvzFU",
        "colab_type": "code",
        "colab": {
          "base_uri": "https://localhost:8080/",
          "height": 34
        },
        "outputId": "8abdb295-0609-485c-d5a1-08362178331d"
      },
      "source": [
        "a=5\n",
        "a=\"five\"\n",
        "print(a)"
      ],
      "execution_count": null,
      "outputs": [
        {
          "output_type": "stream",
          "text": [
            "five\n"
          ],
          "name": "stdout"
        }
      ]
    },
    {
      "cell_type": "code",
      "metadata": {
        "id": "_VmLV9RZ1qrB",
        "colab_type": "code",
        "colab": {}
      },
      "source": [
        "#google colab handles variable indentation but not loops and conditional statement indentation"
      ],
      "execution_count": null,
      "outputs": []
    },
    {
      "cell_type": "code",
      "metadata": {
        "id": "h-YoNMj12b01",
        "colab_type": "code",
        "colab": {
          "base_uri": "https://localhost:8080/",
          "height": 34
        },
        "outputId": "73c34694-9ef6-40a1-bdc6-02861afefda2"
      },
      "source": [
        "#defining a function\n",
        "def sum(a,b):\n",
        "  return a+b\n",
        "\n",
        "x=sum(5,2)\n",
        "print(x)"
      ],
      "execution_count": null,
      "outputs": [
        {
          "output_type": "stream",
          "text": [
            "7\n"
          ],
          "name": "stdout"
        }
      ]
    },
    {
      "cell_type": "code",
      "metadata": {
        "id": "Qimbbham4X-G",
        "colab_type": "code",
        "colab": {}
      },
      "source": [
        "a=5\n",
        "b=6\n"
      ],
      "execution_count": null,
      "outputs": []
    },
    {
      "cell_type": "code",
      "metadata": {
        "id": "EGZ6X2j96dok",
        "colab_type": "code",
        "colab": {
          "base_uri": "https://localhost:8080/",
          "height": 34
        },
        "outputId": "f9d19ebd-33dc-4264-b72e-bb9d1d1139d9"
      },
      "source": [
        "#It takes global variables without passing it---Property of python\n",
        "def printer():\n",
        "  print(a+b)\n",
        "\n",
        "printer()"
      ],
      "execution_count": null,
      "outputs": [
        {
          "output_type": "stream",
          "text": [
            "11\n"
          ],
          "name": "stdout"
        }
      ]
    },
    {
      "cell_type": "code",
      "metadata": {
        "id": "HJWjUlVC6fW7",
        "colab_type": "code",
        "colab": {
          "base_uri": "https://localhost:8080/",
          "height": 34
        },
        "outputId": "8920f198-b599-4bb0-b3d1-727f09e97c0d"
      },
      "source": [
        "#type casting here 1 times that is int to float\n",
        "#other thing is conversion of bases but the data types remain same\n",
        "\n",
        "#111 is in base 3 and alwaysanswer will come inbase 10\n",
        "print(float(int('111',base=4)))\n",
        "print(float(int('111',base=10)))\n"
      ],
      "execution_count": null,
      "outputs": [
        {
          "output_type": "execute_result",
          "data": {
            "text/plain": [
              "111.0"
            ]
          },
          "metadata": {
            "tags": []
          },
          "execution_count": 17
        }
      ]
    },
    {
      "cell_type": "code",
      "metadata": {
        "id": "jSTUlc7KBEsB",
        "colab_type": "code",
        "colab": {
          "base_uri": "https://localhost:8080/",
          "height": 35
        },
        "outputId": "7fb39d89-6547-4a14-a89e-f598fe7b9bc1"
      },
      "source": [
        "str(float(int('111',base=10)))\n",
        "#float to string"
      ],
      "execution_count": null,
      "outputs": [
        {
          "output_type": "execute_result",
          "data": {
            "application/vnd.google.colaboratory.intrinsic": {
              "type": "string"
            },
            "text/plain": [
              "'111.0'"
            ]
          },
          "metadata": {
            "tags": []
          },
          "execution_count": 21
        }
      ]
    },
    {
      "cell_type": "code",
      "metadata": {
        "id": "8SUZ6PlSCdO6",
        "colab_type": "code",
        "colab": {}
      },
      "source": [
        "def printing():\n",
        "  a=\"line1 \"\n",
        "  "
      ],
      "execution_count": null,
      "outputs": []
    },
    {
      "cell_type": "code",
      "metadata": {
        "id": "2jvVZNQJDmA2",
        "colab_type": "code",
        "colab": {
          "base_uri": "https://localhost:8080/",
          "height": 1000
        },
        "outputId": "d8925714-c605-4c67-ec30-72603350a00c"
      },
      "source": [
        "#traceback helps u track back to the step were we failed\n",
        "help('traceback')"
      ],
      "execution_count": null,
      "outputs": [
        {
          "output_type": "stream",
          "text": [
            "Help on module traceback:\n",
            "\n",
            "NAME\n",
            "    traceback - Extract, format and print information about Python stack traces.\n",
            "\n",
            "MODULE REFERENCE\n",
            "    https://docs.python.org/3.6/library/traceback\n",
            "    \n",
            "    The following documentation is automatically generated from the Python\n",
            "    source files.  It may be incomplete, incorrect or include features that\n",
            "    are considered implementation detail and may vary between Python\n",
            "    implementations.  When in doubt, consult the module reference at the\n",
            "    location listed above.\n",
            "\n",
            "CLASSES\n",
            "    builtins.list(builtins.object)\n",
            "        StackSummary\n",
            "    builtins.object\n",
            "        FrameSummary\n",
            "        TracebackException\n",
            "    \n",
            "    class FrameSummary(builtins.object)\n",
            "     |  A single frame from a traceback.\n",
            "     |  \n",
            "     |  - :attr:`filename` The filename for the frame.\n",
            "     |  - :attr:`lineno` The line within filename for the frame that was\n",
            "     |    active when the frame was captured.\n",
            "     |  - :attr:`name` The name of the function or method that was executing\n",
            "     |    when the frame was captured.\n",
            "     |  - :attr:`line` The text from the linecache module for the\n",
            "     |    of code that was running when the frame was captured.\n",
            "     |  - :attr:`locals` Either None if locals were not supplied, or a dict\n",
            "     |    mapping the name to the repr() of the variable.\n",
            "     |  \n",
            "     |  Methods defined here:\n",
            "     |  \n",
            "     |  __eq__(self, other)\n",
            "     |      Return self==value.\n",
            "     |  \n",
            "     |  __getitem__(self, pos)\n",
            "     |  \n",
            "     |  __init__(self, filename, lineno, name, *, lookup_line=True, locals=None, line=None)\n",
            "     |      Construct a FrameSummary.\n",
            "     |      \n",
            "     |      :param lookup_line: If True, `linecache` is consulted for the source\n",
            "     |          code line. Otherwise, the line will be looked up when first needed.\n",
            "     |      :param locals: If supplied the frame locals, which will be captured as\n",
            "     |          object representations.\n",
            "     |      :param line: If provided, use this instead of looking up the line in\n",
            "     |          the linecache.\n",
            "     |  \n",
            "     |  __iter__(self)\n",
            "     |  \n",
            "     |  __repr__(self)\n",
            "     |      Return repr(self).\n",
            "     |  \n",
            "     |  ----------------------------------------------------------------------\n",
            "     |  Data descriptors defined here:\n",
            "     |  \n",
            "     |  filename\n",
            "     |  \n",
            "     |  line\n",
            "     |  \n",
            "     |  lineno\n",
            "     |  \n",
            "     |  locals\n",
            "     |  \n",
            "     |  name\n",
            "     |  \n",
            "     |  ----------------------------------------------------------------------\n",
            "     |  Data and other attributes defined here:\n",
            "     |  \n",
            "     |  __hash__ = None\n",
            "    \n",
            "    class StackSummary(builtins.list)\n",
            "     |  A stack of frames.\n",
            "     |  \n",
            "     |  Method resolution order:\n",
            "     |      StackSummary\n",
            "     |      builtins.list\n",
            "     |      builtins.object\n",
            "     |  \n",
            "     |  Methods defined here:\n",
            "     |  \n",
            "     |  format(self)\n",
            "     |      Format the stack ready for printing.\n",
            "     |      \n",
            "     |      Returns a list of strings ready for printing.  Each string in the\n",
            "     |      resulting list corresponds to a single frame from the stack.\n",
            "     |      Each string ends in a newline; the strings may contain internal\n",
            "     |      newlines as well, for those items with source text lines.\n",
            "     |      \n",
            "     |      For long sequences of the same frame and line, the first few\n",
            "     |      repetitions are shown, followed by a summary line stating the exact\n",
            "     |      number of further repetitions.\n",
            "     |  \n",
            "     |  ----------------------------------------------------------------------\n",
            "     |  Class methods defined here:\n",
            "     |  \n",
            "     |  extract(frame_gen, *, limit=None, lookup_lines=True, capture_locals=False) from builtins.type\n",
            "     |      Create a StackSummary from a traceback or stack object.\n",
            "     |      \n",
            "     |      :param frame_gen: A generator that yields (frame, lineno) tuples to\n",
            "     |          include in the stack.\n",
            "     |      :param limit: None to include all frames or the number of frames to\n",
            "     |          include.\n",
            "     |      :param lookup_lines: If True, lookup lines for each frame immediately,\n",
            "     |          otherwise lookup is deferred until the frame is rendered.\n",
            "     |      :param capture_locals: If True, the local variables from each frame will\n",
            "     |          be captured as object representations into the FrameSummary.\n",
            "     |  \n",
            "     |  from_list(a_list) from builtins.type\n",
            "     |      Create a StackSummary object from a supplied list of\n",
            "     |      FrameSummary objects or old-style list of tuples.\n",
            "     |  \n",
            "     |  ----------------------------------------------------------------------\n",
            "     |  Data descriptors defined here:\n",
            "     |  \n",
            "     |  __dict__\n",
            "     |      dictionary for instance variables (if defined)\n",
            "     |  \n",
            "     |  __weakref__\n",
            "     |      list of weak references to the object (if defined)\n",
            "     |  \n",
            "     |  ----------------------------------------------------------------------\n",
            "     |  Methods inherited from builtins.list:\n",
            "     |  \n",
            "     |  __add__(self, value, /)\n",
            "     |      Return self+value.\n",
            "     |  \n",
            "     |  __contains__(self, key, /)\n",
            "     |      Return key in self.\n",
            "     |  \n",
            "     |  __delitem__(self, key, /)\n",
            "     |      Delete self[key].\n",
            "     |  \n",
            "     |  __eq__(self, value, /)\n",
            "     |      Return self==value.\n",
            "     |  \n",
            "     |  __ge__(self, value, /)\n",
            "     |      Return self>=value.\n",
            "     |  \n",
            "     |  __getattribute__(self, name, /)\n",
            "     |      Return getattr(self, name).\n",
            "     |  \n",
            "     |  __getitem__(...)\n",
            "     |      x.__getitem__(y) <==> x[y]\n",
            "     |  \n",
            "     |  __gt__(self, value, /)\n",
            "     |      Return self>value.\n",
            "     |  \n",
            "     |  __iadd__(self, value, /)\n",
            "     |      Implement self+=value.\n",
            "     |  \n",
            "     |  __imul__(self, value, /)\n",
            "     |      Implement self*=value.\n",
            "     |  \n",
            "     |  __init__(self, /, *args, **kwargs)\n",
            "     |      Initialize self.  See help(type(self)) for accurate signature.\n",
            "     |  \n",
            "     |  __iter__(self, /)\n",
            "     |      Implement iter(self).\n",
            "     |  \n",
            "     |  __le__(self, value, /)\n",
            "     |      Return self<=value.\n",
            "     |  \n",
            "     |  __len__(self, /)\n",
            "     |      Return len(self).\n",
            "     |  \n",
            "     |  __lt__(self, value, /)\n",
            "     |      Return self<value.\n",
            "     |  \n",
            "     |  __mul__(self, value, /)\n",
            "     |      Return self*value.\n",
            "     |  \n",
            "     |  __ne__(self, value, /)\n",
            "     |      Return self!=value.\n",
            "     |  \n",
            "     |  __new__(*args, **kwargs) from builtins.type\n",
            "     |      Create and return a new object.  See help(type) for accurate signature.\n",
            "     |  \n",
            "     |  __repr__(self, /)\n",
            "     |      Return repr(self).\n",
            "     |  \n",
            "     |  __reversed__(...)\n",
            "     |      L.__reversed__() -- return a reverse iterator over the list\n",
            "     |  \n",
            "     |  __rmul__(self, value, /)\n",
            "     |      Return value*self.\n",
            "     |  \n",
            "     |  __setitem__(self, key, value, /)\n",
            "     |      Set self[key] to value.\n",
            "     |  \n",
            "     |  __sizeof__(...)\n",
            "     |      L.__sizeof__() -- size of L in memory, in bytes\n",
            "     |  \n",
            "     |  append(...)\n",
            "     |      L.append(object) -> None -- append object to end\n",
            "     |  \n",
            "     |  clear(...)\n",
            "     |      L.clear() -> None -- remove all items from L\n",
            "     |  \n",
            "     |  copy(...)\n",
            "     |      L.copy() -> list -- a shallow copy of L\n",
            "     |  \n",
            "     |  count(...)\n",
            "     |      L.count(value) -> integer -- return number of occurrences of value\n",
            "     |  \n",
            "     |  extend(...)\n",
            "     |      L.extend(iterable) -> None -- extend list by appending elements from the iterable\n",
            "     |  \n",
            "     |  index(...)\n",
            "     |      L.index(value, [start, [stop]]) -> integer -- return first index of value.\n",
            "     |      Raises ValueError if the value is not present.\n",
            "     |  \n",
            "     |  insert(...)\n",
            "     |      L.insert(index, object) -- insert object before index\n",
            "     |  \n",
            "     |  pop(...)\n",
            "     |      L.pop([index]) -> item -- remove and return item at index (default last).\n",
            "     |      Raises IndexError if list is empty or index is out of range.\n",
            "     |  \n",
            "     |  remove(...)\n",
            "     |      L.remove(value) -> None -- remove first occurrence of value.\n",
            "     |      Raises ValueError if the value is not present.\n",
            "     |  \n",
            "     |  reverse(...)\n",
            "     |      L.reverse() -- reverse *IN PLACE*\n",
            "     |  \n",
            "     |  sort(...)\n",
            "     |      L.sort(key=None, reverse=False) -> None -- stable sort *IN PLACE*\n",
            "     |  \n",
            "     |  ----------------------------------------------------------------------\n",
            "     |  Data and other attributes inherited from builtins.list:\n",
            "     |  \n",
            "     |  __hash__ = None\n",
            "    \n",
            "    class TracebackException(builtins.object)\n",
            "     |  An exception ready for rendering.\n",
            "     |  \n",
            "     |  The traceback module captures enough attributes from the original exception\n",
            "     |  to this intermediary form to ensure that no references are held, while\n",
            "     |  still being able to fully print or format it.\n",
            "     |  \n",
            "     |  Use `from_exception` to create TracebackException instances from exception\n",
            "     |  objects, or the constructor to create TracebackException instances from\n",
            "     |  individual components.\n",
            "     |  \n",
            "     |  - :attr:`__cause__` A TracebackException of the original *__cause__*.\n",
            "     |  - :attr:`__context__` A TracebackException of the original *__context__*.\n",
            "     |  - :attr:`__suppress_context__` The *__suppress_context__* value from the\n",
            "     |    original exception.\n",
            "     |  - :attr:`stack` A `StackSummary` representing the traceback.\n",
            "     |  - :attr:`exc_type` The class of the original traceback.\n",
            "     |  - :attr:`filename` For syntax errors - the filename where the error\n",
            "     |    occurred.\n",
            "     |  - :attr:`lineno` For syntax errors - the linenumber where the error\n",
            "     |    occurred.\n",
            "     |  - :attr:`text` For syntax errors - the text where the error\n",
            "     |    occurred.\n",
            "     |  - :attr:`offset` For syntax errors - the offset into the text where the\n",
            "     |    error occurred.\n",
            "     |  - :attr:`msg` For syntax errors - the compiler error message.\n",
            "     |  \n",
            "     |  Methods defined here:\n",
            "     |  \n",
            "     |  __eq__(self, other)\n",
            "     |      Return self==value.\n",
            "     |  \n",
            "     |  __init__(self, exc_type, exc_value, exc_traceback, *, limit=None, lookup_lines=True, capture_locals=False, _seen=None)\n",
            "     |      Initialize self.  See help(type(self)) for accurate signature.\n",
            "     |  \n",
            "     |  __str__(self)\n",
            "     |      Return str(self).\n",
            "     |  \n",
            "     |  format(self, *, chain=True)\n",
            "     |      Format the exception.\n",
            "     |      \n",
            "     |      If chain is not *True*, *__cause__* and *__context__* will not be formatted.\n",
            "     |      \n",
            "     |      The return value is a generator of strings, each ending in a newline and\n",
            "     |      some containing internal newlines. `print_exception` is a wrapper around\n",
            "     |      this method which just prints the lines to a file.\n",
            "     |      \n",
            "     |      The message indicating which exception occurred is always the last\n",
            "     |      string in the output.\n",
            "     |  \n",
            "     |  format_exception_only(self)\n",
            "     |      Format the exception part of the traceback.\n",
            "     |      \n",
            "     |      The return value is a generator of strings, each ending in a newline.\n",
            "     |      \n",
            "     |      Normally, the generator emits a single string; however, for\n",
            "     |      SyntaxError exceptions, it emites several lines that (when\n",
            "     |      printed) display detailed information about where the syntax\n",
            "     |      error occurred.\n",
            "     |      \n",
            "     |      The message indicating which exception occurred is always the last\n",
            "     |      string in the output.\n",
            "     |  \n",
            "     |  ----------------------------------------------------------------------\n",
            "     |  Class methods defined here:\n",
            "     |  \n",
            "     |  from_exception(exc, *args, **kwargs) from builtins.type\n",
            "     |      Create a TracebackException from an exception.\n",
            "     |  \n",
            "     |  ----------------------------------------------------------------------\n",
            "     |  Data descriptors defined here:\n",
            "     |  \n",
            "     |  __dict__\n",
            "     |      dictionary for instance variables (if defined)\n",
            "     |  \n",
            "     |  __weakref__\n",
            "     |      list of weak references to the object (if defined)\n",
            "     |  \n",
            "     |  ----------------------------------------------------------------------\n",
            "     |  Data and other attributes defined here:\n",
            "     |  \n",
            "     |  __hash__ = None\n",
            "\n",
            "FUNCTIONS\n",
            "    clear_frames(tb)\n",
            "        Clear all references to local variables in the frames of a traceback.\n",
            "    \n",
            "    extract_stack(f=None, limit=None)\n",
            "        Extract the raw traceback from the current stack frame.\n",
            "        \n",
            "        The return value has the same format as for extract_tb().  The\n",
            "        optional 'f' and 'limit' arguments have the same meaning as for\n",
            "        print_stack().  Each item in the list is a quadruple (filename,\n",
            "        line number, function name, text), and the entries are in order\n",
            "        from oldest to newest stack frame.\n",
            "    \n",
            "    extract_tb(tb, limit=None)\n",
            "        Return a StackSummary object representing a list of\n",
            "        pre-processed entries from traceback.\n",
            "        \n",
            "        This is useful for alternate formatting of stack traces.  If\n",
            "        'limit' is omitted or None, all entries are extracted.  A\n",
            "        pre-processed stack trace entry is a FrameSummary object\n",
            "        containing attributes filename, lineno, name, and line\n",
            "        representing the information that is usually printed for a stack\n",
            "        trace.  The line is a string with leading and trailing\n",
            "        whitespace stripped; if the source is not available it is None.\n",
            "    \n",
            "    format_exc(limit=None, chain=True)\n",
            "        Like print_exc() but return a string.\n",
            "    \n",
            "    format_exception(etype, value, tb, limit=None, chain=True)\n",
            "        Format a stack trace and the exception information.\n",
            "        \n",
            "        The arguments have the same meaning as the corresponding arguments\n",
            "        to print_exception().  The return value is a list of strings, each\n",
            "        ending in a newline and some containing internal newlines.  When\n",
            "        these lines are concatenated and printed, exactly the same text is\n",
            "        printed as does print_exception().\n",
            "    \n",
            "    format_exception_only(etype, value)\n",
            "        Format the exception part of a traceback.\n",
            "        \n",
            "        The arguments are the exception type and value such as given by\n",
            "        sys.last_type and sys.last_value. The return value is a list of\n",
            "        strings, each ending in a newline.\n",
            "        \n",
            "        Normally, the list contains a single string; however, for\n",
            "        SyntaxError exceptions, it contains several lines that (when\n",
            "        printed) display detailed information about where the syntax\n",
            "        error occurred.\n",
            "        \n",
            "        The message indicating which exception occurred is always the last\n",
            "        string in the list.\n",
            "    \n",
            "    format_list(extracted_list)\n",
            "        Format a list of tuples or FrameSummary objects for printing.\n",
            "        \n",
            "        Given a list of tuples or FrameSummary objects as returned by\n",
            "        extract_tb() or extract_stack(), return a list of strings ready\n",
            "        for printing.\n",
            "        \n",
            "        Each string in the resulting list corresponds to the item with the\n",
            "        same index in the argument list.  Each string ends in a newline;\n",
            "        the strings may contain internal newlines as well, for those items\n",
            "        whose source text line is not None.\n",
            "    \n",
            "    format_stack(f=None, limit=None)\n",
            "        Shorthand for 'format_list(extract_stack(f, limit))'.\n",
            "    \n",
            "    format_tb(tb, limit=None)\n",
            "        A shorthand for 'format_list(extract_tb(tb, limit))'.\n",
            "    \n",
            "    print_exc(limit=None, file=None, chain=True)\n",
            "        Shorthand for 'print_exception(*sys.exc_info(), limit, file)'.\n",
            "    \n",
            "    print_exception(etype, value, tb, limit=None, file=None, chain=True)\n",
            "        Print exception up to 'limit' stack trace entries from 'tb' to 'file'.\n",
            "        \n",
            "        This differs from print_tb() in the following ways: (1) if\n",
            "        traceback is not None, it prints a header \"Traceback (most recent\n",
            "        call last):\"; (2) it prints the exception type and value after the\n",
            "        stack trace; (3) if type is SyntaxError and value has the\n",
            "        appropriate format, it prints the line where the syntax error\n",
            "        occurred with a caret on the next line indicating the approximate\n",
            "        position of the error.\n",
            "    \n",
            "    print_last(limit=None, file=None, chain=True)\n",
            "        This is a shorthand for 'print_exception(sys.last_type,\n",
            "        sys.last_value, sys.last_traceback, limit, file)'.\n",
            "    \n",
            "    print_stack(f=None, limit=None, file=None)\n",
            "        Print a stack trace from its invocation point.\n",
            "        \n",
            "        The optional 'f' argument can be used to specify an alternate\n",
            "        stack frame at which to start. The optional 'limit' and 'file'\n",
            "        arguments have the same meaning as for print_exception().\n",
            "    \n",
            "    print_tb(tb, limit=None, file=None)\n",
            "        Print up to 'limit' stack trace entries from the traceback 'tb'.\n",
            "        \n",
            "        If 'limit' is omitted or None, all entries are printed.  If 'file'\n",
            "        is omitted or None, the output goes to sys.stderr; otherwise\n",
            "        'file' should be an open file or file-like object with a write()\n",
            "        method.\n",
            "    \n",
            "    walk_stack(f)\n",
            "        Walk a stack yielding the frame and line number for each frame.\n",
            "        \n",
            "        This will follow f.f_back from the given frame. If no frame is given, the\n",
            "        current stack is used. Usually used with StackSummary.extract.\n",
            "    \n",
            "    walk_tb(tb)\n",
            "        Walk a traceback yielding the frame and line number for each frame.\n",
            "        \n",
            "        This will follow tb.tb_next (and thus is in the opposite order to\n",
            "        walk_stack). Usually used with StackSummary.extract.\n",
            "\n",
            "DATA\n",
            "    __all__ = ['extract_stack', 'extract_tb', 'format_exception', 'format_...\n",
            "\n",
            "FILE\n",
            "    /usr/lib/python3.6/traceback.py\n",
            "\n",
            "\n"
          ],
          "name": "stdout"
        }
      ]
    },
    {
      "cell_type": "code",
      "metadata": {
        "id": "lX6oJwBSHhR8",
        "colab_type": "code",
        "colab": {}
      },
      "source": [
        "#Name-amgling\n",
        "a=4\n",
        "_a=9 #variable is intended for internal use"
      ],
      "execution_count": null,
      "outputs": []
    },
    {
      "cell_type": "code",
      "metadata": {
        "id": "OqQSRNcmJDal",
        "colab_type": "code",
        "colab": {}
      },
      "source": [
        "__a=91\n",
        "class_=6 #for using reserved keywords\n",
        "def make_a(a,class_):\n",
        "  pass"
      ],
      "execution_count": null,
      "outputs": []
    },
    {
      "cell_type": "code",
      "metadata": {
        "id": "velzGFfoHnsc",
        "colab_type": "code",
        "colab": {}
      },
      "source": [
        "#public vs private variables\n",
        "class human:\n",
        "  #members of a class\n",
        "  #both are compulsory\n",
        "  #attribute-variables\n",
        "  #method/behaviour-function"
      ],
      "execution_count": null,
      "outputs": []
    },
    {
      "cell_type": "code",
      "metadata": {
        "id": "gNqqQWTUKylm",
        "colab_type": "code",
        "colab": {
          "base_uri": "https://localhost:8080/",
          "height": 51
        },
        "outputId": "e38c3886-4ad5-4895-9ba0-26479c83985d"
      },
      "source": [
        "class Student:\n",
        "  def __init__(self,name):#constructor\n",
        "    self.__name=name\n",
        "\n",
        "  def disp(self):\n",
        "    print(self.__name)\n",
        "\n",
        "s1=Student(\"Santosh\")\n",
        "s1.disp()\n",
        "\n",
        "#raises an error\n",
        "print(s1._Student__name)#way to decalre a private virable in pythob]n\n",
        "#as __name is not an attribute of a class"
      ],
      "execution_count": 1,
      "outputs": [
        {
          "output_type": "stream",
          "text": [
            "Santosh\n",
            "Santosh\n"
          ],
          "name": "stdout"
        }
      ]
    },
    {
      "cell_type": "code",
      "metadata": {
        "id": "gldFzcVEV8Dx",
        "colab_type": "code",
        "colab": {}
      },
      "source": [
        "class student1(Student)"
      ],
      "execution_count": null,
      "outputs": []
    },
    {
      "cell_type": "code",
      "metadata": {
        "id": "UuVZLBu1abGd",
        "colab_type": "code",
        "colab": {}
      },
      "source": [
        "#Pandas\n",
        "import pandas as pd"
      ],
      "execution_count": null,
      "outputs": []
    },
    {
      "cell_type": "code",
      "metadata": {
        "id": "J1iM5CnXagy9",
        "colab_type": "code",
        "colab": {}
      },
      "source": [
        "#this is a constructor call and dataframe is  class\n",
        "a=pd.DataFrame()#a is an empty frame"
      ],
      "execution_count": null,
      "outputs": []
    },
    {
      "cell_type": "code",
      "metadata": {
        "id": "PX_1vMJ2ayfZ",
        "colab_type": "code",
        "colab": {
          "base_uri": "https://localhost:8080/",
          "height": 49
        },
        "outputId": "02df6158-8059-456b-d7a4-36072f615bfa"
      },
      "source": [
        "l=[1,2,3,4,5]\n",
        "a=pd.DataFrame(columns=l)\n",
        "a"
      ],
      "execution_count": null,
      "outputs": [
        {
          "output_type": "execute_result",
          "data": {
            "text/html": [
              "<div>\n",
              "<style scoped>\n",
              "    .dataframe tbody tr th:only-of-type {\n",
              "        vertical-align: middle;\n",
              "    }\n",
              "\n",
              "    .dataframe tbody tr th {\n",
              "        vertical-align: top;\n",
              "    }\n",
              "\n",
              "    .dataframe thead th {\n",
              "        text-align: right;\n",
              "    }\n",
              "</style>\n",
              "<table border=\"1\" class=\"dataframe\">\n",
              "  <thead>\n",
              "    <tr style=\"text-align: right;\">\n",
              "      <th></th>\n",
              "      <th>1</th>\n",
              "      <th>2</th>\n",
              "      <th>3</th>\n",
              "      <th>4</th>\n",
              "      <th>5</th>\n",
              "    </tr>\n",
              "  </thead>\n",
              "  <tbody>\n",
              "  </tbody>\n",
              "</table>\n",
              "</div>"
            ],
            "text/plain": [
              "Empty DataFrame\n",
              "Columns: [1, 2, 3, 4, 5]\n",
              "Index: []"
            ]
          },
          "metadata": {
            "tags": []
          },
          "execution_count": 42
        }
      ]
    },
    {
      "cell_type": "code",
      "metadata": {
        "id": "b5XAnjawbARy",
        "colab_type": "code",
        "colab": {}
      },
      "source": [
        "a=pd.read_csv('/content/sample_data/california_housing_train.csv')"
      ],
      "execution_count": null,
      "outputs": []
    },
    {
      "cell_type": "code",
      "metadata": {
        "id": "gBY3OQlZa__3",
        "colab_type": "code",
        "colab": {
          "base_uri": "https://localhost:8080/",
          "height": 419
        },
        "outputId": "d1d91a71-bda1-484e-b999-7ea85fdb6eac"
      },
      "source": [
        "a"
      ],
      "execution_count": null,
      "outputs": [
        {
          "output_type": "execute_result",
          "data": {
            "text/html": [
              "<div>\n",
              "<style scoped>\n",
              "    .dataframe tbody tr th:only-of-type {\n",
              "        vertical-align: middle;\n",
              "    }\n",
              "\n",
              "    .dataframe tbody tr th {\n",
              "        vertical-align: top;\n",
              "    }\n",
              "\n",
              "    .dataframe thead th {\n",
              "        text-align: right;\n",
              "    }\n",
              "</style>\n",
              "<table border=\"1\" class=\"dataframe\">\n",
              "  <thead>\n",
              "    <tr style=\"text-align: right;\">\n",
              "      <th></th>\n",
              "      <th>longitude</th>\n",
              "      <th>latitude</th>\n",
              "      <th>housing_median_age</th>\n",
              "      <th>total_rooms</th>\n",
              "      <th>total_bedrooms</th>\n",
              "      <th>population</th>\n",
              "      <th>households</th>\n",
              "      <th>median_income</th>\n",
              "      <th>median_house_value</th>\n",
              "    </tr>\n",
              "  </thead>\n",
              "  <tbody>\n",
              "    <tr>\n",
              "      <th>0</th>\n",
              "      <td>-114.31</td>\n",
              "      <td>34.19</td>\n",
              "      <td>15.0</td>\n",
              "      <td>5612.0</td>\n",
              "      <td>1283.0</td>\n",
              "      <td>1015.0</td>\n",
              "      <td>472.0</td>\n",
              "      <td>1.4936</td>\n",
              "      <td>66900.0</td>\n",
              "    </tr>\n",
              "    <tr>\n",
              "      <th>1</th>\n",
              "      <td>-114.47</td>\n",
              "      <td>34.40</td>\n",
              "      <td>19.0</td>\n",
              "      <td>7650.0</td>\n",
              "      <td>1901.0</td>\n",
              "      <td>1129.0</td>\n",
              "      <td>463.0</td>\n",
              "      <td>1.8200</td>\n",
              "      <td>80100.0</td>\n",
              "    </tr>\n",
              "    <tr>\n",
              "      <th>2</th>\n",
              "      <td>-114.56</td>\n",
              "      <td>33.69</td>\n",
              "      <td>17.0</td>\n",
              "      <td>720.0</td>\n",
              "      <td>174.0</td>\n",
              "      <td>333.0</td>\n",
              "      <td>117.0</td>\n",
              "      <td>1.6509</td>\n",
              "      <td>85700.0</td>\n",
              "    </tr>\n",
              "    <tr>\n",
              "      <th>3</th>\n",
              "      <td>-114.57</td>\n",
              "      <td>33.64</td>\n",
              "      <td>14.0</td>\n",
              "      <td>1501.0</td>\n",
              "      <td>337.0</td>\n",
              "      <td>515.0</td>\n",
              "      <td>226.0</td>\n",
              "      <td>3.1917</td>\n",
              "      <td>73400.0</td>\n",
              "    </tr>\n",
              "    <tr>\n",
              "      <th>4</th>\n",
              "      <td>-114.57</td>\n",
              "      <td>33.57</td>\n",
              "      <td>20.0</td>\n",
              "      <td>1454.0</td>\n",
              "      <td>326.0</td>\n",
              "      <td>624.0</td>\n",
              "      <td>262.0</td>\n",
              "      <td>1.9250</td>\n",
              "      <td>65500.0</td>\n",
              "    </tr>\n",
              "    <tr>\n",
              "      <th>...</th>\n",
              "      <td>...</td>\n",
              "      <td>...</td>\n",
              "      <td>...</td>\n",
              "      <td>...</td>\n",
              "      <td>...</td>\n",
              "      <td>...</td>\n",
              "      <td>...</td>\n",
              "      <td>...</td>\n",
              "      <td>...</td>\n",
              "    </tr>\n",
              "    <tr>\n",
              "      <th>16995</th>\n",
              "      <td>-124.26</td>\n",
              "      <td>40.58</td>\n",
              "      <td>52.0</td>\n",
              "      <td>2217.0</td>\n",
              "      <td>394.0</td>\n",
              "      <td>907.0</td>\n",
              "      <td>369.0</td>\n",
              "      <td>2.3571</td>\n",
              "      <td>111400.0</td>\n",
              "    </tr>\n",
              "    <tr>\n",
              "      <th>16996</th>\n",
              "      <td>-124.27</td>\n",
              "      <td>40.69</td>\n",
              "      <td>36.0</td>\n",
              "      <td>2349.0</td>\n",
              "      <td>528.0</td>\n",
              "      <td>1194.0</td>\n",
              "      <td>465.0</td>\n",
              "      <td>2.5179</td>\n",
              "      <td>79000.0</td>\n",
              "    </tr>\n",
              "    <tr>\n",
              "      <th>16997</th>\n",
              "      <td>-124.30</td>\n",
              "      <td>41.84</td>\n",
              "      <td>17.0</td>\n",
              "      <td>2677.0</td>\n",
              "      <td>531.0</td>\n",
              "      <td>1244.0</td>\n",
              "      <td>456.0</td>\n",
              "      <td>3.0313</td>\n",
              "      <td>103600.0</td>\n",
              "    </tr>\n",
              "    <tr>\n",
              "      <th>16998</th>\n",
              "      <td>-124.30</td>\n",
              "      <td>41.80</td>\n",
              "      <td>19.0</td>\n",
              "      <td>2672.0</td>\n",
              "      <td>552.0</td>\n",
              "      <td>1298.0</td>\n",
              "      <td>478.0</td>\n",
              "      <td>1.9797</td>\n",
              "      <td>85800.0</td>\n",
              "    </tr>\n",
              "    <tr>\n",
              "      <th>16999</th>\n",
              "      <td>-124.35</td>\n",
              "      <td>40.54</td>\n",
              "      <td>52.0</td>\n",
              "      <td>1820.0</td>\n",
              "      <td>300.0</td>\n",
              "      <td>806.0</td>\n",
              "      <td>270.0</td>\n",
              "      <td>3.0147</td>\n",
              "      <td>94600.0</td>\n",
              "    </tr>\n",
              "  </tbody>\n",
              "</table>\n",
              "<p>17000 rows × 9 columns</p>\n",
              "</div>"
            ],
            "text/plain": [
              "       longitude  latitude  ...  median_income  median_house_value\n",
              "0        -114.31     34.19  ...         1.4936             66900.0\n",
              "1        -114.47     34.40  ...         1.8200             80100.0\n",
              "2        -114.56     33.69  ...         1.6509             85700.0\n",
              "3        -114.57     33.64  ...         3.1917             73400.0\n",
              "4        -114.57     33.57  ...         1.9250             65500.0\n",
              "...          ...       ...  ...            ...                 ...\n",
              "16995    -124.26     40.58  ...         2.3571            111400.0\n",
              "16996    -124.27     40.69  ...         2.5179             79000.0\n",
              "16997    -124.30     41.84  ...         3.0313            103600.0\n",
              "16998    -124.30     41.80  ...         1.9797             85800.0\n",
              "16999    -124.35     40.54  ...         3.0147             94600.0\n",
              "\n",
              "[17000 rows x 9 columns]"
            ]
          },
          "metadata": {
            "tags": []
          },
          "execution_count": 45
        }
      ]
    }
  ]
}