{
  "nbformat": 4,
  "nbformat_minor": 0,
  "metadata": {
    "colab": {
      "name": "CW_J078_010820.ipynb",
      "provenance": [],
      "collapsed_sections": [],
      "authorship_tag": "ABX9TyMhO1lM1EuVjmRY+QQn81n3",
      "include_colab_link": true
    },
    "kernelspec": {
      "name": "python3",
      "display_name": "Python 3"
    }
  },
  "cells": [
    {
      "cell_type": "markdown",
      "metadata": {
        "id": "view-in-github",
        "colab_type": "text"
      },
      "source": [
        "<a href=\"https://colab.research.google.com/github/UJWAL-SHAH/AI/blob/master/Class%20Work/CW_J078_010820.ipynb\" target=\"_parent\"><img src=\"https://colab.research.google.com/assets/colab-badge.svg\" alt=\"Open In Colab\"/></a>"
      ]
    },
    {
      "cell_type": "markdown",
      "metadata": {
        "id": "3DgMfQRNN_k_",
        "colab_type": "text"
      },
      "source": [
        "#**Roll No: J078 (Submitted on : 1st August 2020)**\n",
        "# **Classwork**"
      ]
    },
    {
      "cell_type": "markdown",
      "metadata": {
        "id": "-BwUs2ghBohC",
        "colab_type": "text"
      },
      "source": [
        "# **Dynamic Programming**"
      ]
    },
    {
      "cell_type": "markdown",
      "metadata": {
        "id": "EQdYLUgUNOch",
        "colab_type": "text"
      },
      "source": [
        "###**Calculating Factorial**"
      ]
    },
    {
      "cell_type": "code",
      "metadata": {
        "id": "wRPDbnjXBGOW",
        "colab_type": "code",
        "colab": {
          "base_uri": "https://localhost:8080/",
          "height": 34
        },
        "outputId": "988a500d-65fd-428a-8687-3a4ced2a266b"
      },
      "source": [
        "import math\n",
        "math.factorial(10)"
      ],
      "execution_count": 4,
      "outputs": [
        {
          "output_type": "execute_result",
          "data": {
            "text/plain": [
              "3628800"
            ]
          },
          "metadata": {
            "tags": []
          },
          "execution_count": 4
        }
      ]
    },
    {
      "cell_type": "code",
      "metadata": {
        "id": "7YVsL98PFags",
        "colab_type": "code",
        "colab": {}
      },
      "source": [
        "#OR using Loops \n",
        "def factorial(n):\n",
        "  factor=1\n",
        "  for x in range(n):\n",
        "    factor=factor *(x+1)\n",
        "  return factor"
      ],
      "execution_count": 5,
      "outputs": []
    },
    {
      "cell_type": "code",
      "metadata": {
        "id": "ffifN6u6F220",
        "colab_type": "code",
        "colab": {
          "base_uri": "https://localhost:8080/",
          "height": 34
        },
        "outputId": "3c32fda6-6357-4408-8fb1-eab237e7019e"
      },
      "source": [
        "factorial(0)"
      ],
      "execution_count": 6,
      "outputs": [
        {
          "output_type": "execute_result",
          "data": {
            "text/plain": [
              "1"
            ]
          },
          "metadata": {
            "tags": []
          },
          "execution_count": 6
        }
      ]
    },
    {
      "cell_type": "code",
      "metadata": {
        "id": "zfNpHoZ2GoBl",
        "colab_type": "code",
        "colab": {}
      },
      "source": [
        "#Or using Recursive function\n",
        "def factorials(n):\n",
        "  factor=1\n",
        "  if n==0: \n",
        "    return factor\n",
        "  else :\n",
        "    return n*factorials(n-1) "
      ],
      "execution_count": 7,
      "outputs": []
    },
    {
      "cell_type": "code",
      "metadata": {
        "id": "uCF65tO2HA_L",
        "colab_type": "code",
        "colab": {
          "base_uri": "https://localhost:8080/",
          "height": 34
        },
        "outputId": "17a88afc-afc5-46c6-8e9c-c33b389fe757"
      },
      "source": [
        "factorials(5)"
      ],
      "execution_count": 8,
      "outputs": [
        {
          "output_type": "execute_result",
          "data": {
            "text/plain": [
              "120"
            ]
          },
          "metadata": {
            "tags": []
          },
          "execution_count": 8
        }
      ]
    },
    {
      "cell_type": "markdown",
      "metadata": {
        "id": "0F90K0GbNdmp",
        "colab_type": "text"
      },
      "source": [
        "###**Fibonacci Series**"
      ]
    },
    {
      "cell_type": "code",
      "metadata": {
        "id": "nJg4sssSIOIP",
        "colab_type": "code",
        "colab": {}
      },
      "source": [
        "#Fibonacci Series\n",
        "#property\n",
        "#base Case-Sum(0,1)\n",
        "#nth no is sum of previous two numbers :num(n)=sum(num(n-1),num(n-2))\n",
        "#to display only the last number\n",
        "def fibonacci(n):\n",
        "  a=0\n",
        "  b=1\n",
        "  if (n==0):\n",
        "    print(a)\n",
        "  elif (n==1):\n",
        "    print(a,b,end=\" \")\n",
        "  else:\n",
        "    #print(a)\n",
        "    #print(b)\n",
        "    for x in range(2,n):\n",
        "      s=a+b\n",
        "      a=b\n",
        "      b=s\n",
        "    print(s)"
      ],
      "execution_count": 10,
      "outputs": []
    },
    {
      "cell_type": "code",
      "metadata": {
        "id": "SuyFNNsXIXvi",
        "colab_type": "code",
        "colab": {
          "base_uri": "https://localhost:8080/",
          "height": 34
        },
        "outputId": "12d6f338-2f2b-4ee7-c437-cc8b442fb3f0"
      },
      "source": [
        "fibonacci(8)"
      ],
      "execution_count": 11,
      "outputs": [
        {
          "output_type": "stream",
          "text": [
            "13\n"
          ],
          "name": "stdout"
        }
      ]
    },
    {
      "cell_type": "code",
      "metadata": {
        "colab_type": "code",
        "id": "BP89UEsLOeLx",
        "colab": {}
      },
      "source": [
        "#Fibonacci Series using RECURSION Function\n",
        "#To display only the last number\n",
        "#it is return n+1th fibonacci series number  \n",
        "def fibo_1(n):\n",
        "  if n==0 or n==1:\n",
        "    return n\n",
        "  else:\n",
        "    return fibo_1(n-1)+fibo_1(n-2)\n"
      ],
      "execution_count": 12,
      "outputs": []
    },
    {
      "cell_type": "code",
      "metadata": {
        "id": "nUOYSrlTR1MI",
        "colab_type": "code",
        "colab": {
          "base_uri": "https://localhost:8080/",
          "height": 34
        },
        "outputId": "7861ebb7-0a63-41a7-d342-488204a1c010"
      },
      "source": [
        "fibo_1(7)"
      ],
      "execution_count": 13,
      "outputs": [
        {
          "output_type": "execute_result",
          "data": {
            "text/plain": [
              "13"
            ]
          },
          "metadata": {
            "tags": []
          },
          "execution_count": 13
        }
      ]
    },
    {
      "cell_type": "markdown",
      "metadata": {
        "id": "LujDm1FWC-qd",
        "colab_type": "text"
      },
      "source": [
        "\n",
        "\n",
        "### ***RECURSION FUNCTION:*** \n",
        "It is when a function calls itself.\n",
        "\n",
        "Ex:1+2+3+4\n",
        "\n",
        "Solving it with Recursion:\n",
        "\n",
        "1+2=3 #Sum(1,2)\n",
        "\n",
        "3+3=6 #Sum(Sum(1,2),3)\n",
        "\n",
        "6+4=10 # Sum(Sum(Sum(1,2),3),4)\n"
      ]
    },
    {
      "cell_type": "code",
      "metadata": {
        "id": "TV8nxdcKXx3r",
        "colab_type": "code",
        "colab": {}
      },
      "source": [
        "#Binary Search\n",
        "list1=[5,4,3,7,8,55,3,99,44,11,23,65]\n"
      ],
      "execution_count": 15,
      "outputs": []
    },
    {
      "cell_type": "code",
      "metadata": {
        "id": "hstwnr5MZR25",
        "colab_type": "code",
        "colab": {
          "base_uri": "https://localhost:8080/",
          "height": 34
        },
        "outputId": "a3840c68-6e1f-4851-da3f-614d58f07c6d"
      },
      "source": [
        "list1.sort()\n",
        "print(list1)"
      ],
      "execution_count": 16,
      "outputs": [
        {
          "output_type": "stream",
          "text": [
            "[3, 3, 4, 5, 7, 8, 11, 23, 44, 55, 65, 99]\n"
          ],
          "name": "stdout"
        }
      ]
    },
    {
      "cell_type": "markdown",
      "metadata": {
        "id": "rbCbzUXsYU55",
        "colab_type": "text"
      },
      "source": [
        "### **Tractable-PTIME (Polynomial Time Solvable)**\n",
        "\n",
        "\n",
        "**Polynomial-Expression** where each term is n^k where k can be any whole number.\n",
        "\n",
        "**Degree of polynomial:** Highest power of variable within the expression.\n",
        "\n",
        "**Polynomial Time:**Runtime of the code or solution should be a polynomial of degree k  where k is a constant & sinceit is time n cannot be negative\n",
        "\n",
        "**n:** Input space/Dimension\n",
        "\n",
        "Eg: O(n^4): (3*n^4)+(2*n^2)+1 \n",
        "  \n",
        "  Degree here: 4\n",
        "\n",
        "   O(n!): n*(n-1)*(n-2).....*n\n",
        "\n",
        "   Degree here: Non-Polynomial Time(NP)  "
      ]
    },
    {
      "cell_type": "markdown",
      "metadata": {
        "id": "mMZEEnsiDuT_",
        "colab_type": "text"
      },
      "source": [
        "**MEMOISATION~Memorandum**\n",
        "\n",
        "Storing Intermediate values,through variouss ways"
      ]
    }
  ]
}