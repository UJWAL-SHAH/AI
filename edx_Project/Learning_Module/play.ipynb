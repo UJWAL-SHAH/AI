{
  "nbformat": 4,
  "nbformat_minor": 0,
  "metadata": {
    "colab": {
      "name": "play.ipynb",
      "provenance": [],
      "collapsed_sections": [],
      "authorship_tag": "ABX9TyMXhoh4qDCsuwu6eml+Rrg1",
      "include_colab_link": true
    },
    "kernelspec": {
      "name": "python3",
      "display_name": "Python 3"
    }
  },
  "cells": [
    {
      "cell_type": "markdown",
      "metadata": {
        "id": "view-in-github",
        "colab_type": "text"
      },
      "source": [
        "<a href=\"https://colab.research.google.com/github/UJWAL-SHAH/AI/blob/master/edx_Project/Learning_Module/play.ipynb\" target=\"_parent\"><img src=\"https://colab.research.google.com/assets/colab-badge.svg\" alt=\"Open In Colab\"/></a>"
      ]
    },
    {
      "cell_type": "markdown",
      "metadata": {
        "id": "r_VXd9amxc-x"
      },
      "source": [
        "#Roll No: J078\n",
        "\n",
        "#Learning Module - Continuation of Nim Problem"
      ]
    },
    {
      "cell_type": "code",
      "metadata": {
        "id": "Bg29nnTVxbAX"
      },
      "source": [
        "from nim import train, play\n",
        "\n",
        "ai = train(10)\n",
        "play(ai)\n",
        "\n",
        "for i in range(100000000):\n",
        "    flag = i\n",
        "\n",
        "ai = train(1000)\n",
        "play(ai)"
      ],
      "execution_count": null,
      "outputs": []
    },
    {
      "cell_type": "markdown",
      "metadata": {
        "id": "DsoZtqHwxpGE"
      },
      "source": [
        "\n",
        "\n",
        "---\n",
        "\n",
        "\n",
        "\n",
        "---\n",
        "\n"
      ]
    }
  ]
}